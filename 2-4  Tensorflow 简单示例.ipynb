{
 "cells": [
  {
   "cell_type": "code",
   "execution_count": 1,
   "metadata": {
    "collapsed": true
   },
   "outputs": [],
   "source": [
    "import tensorflow as tf\n",
    "import numpy as np"
   ]
  },
  {
   "cell_type": "code",
   "execution_count": 5,
   "metadata": {},
   "outputs": [
    {
     "name": "stdout",
     "output_type": "stream",
     "text": [
      "0 [0.25033611, 0.65531921]\n",
      "20 [0.05308342, 0.22666498]\n",
      "40 [0.073145159, 0.21526279]\n",
      "60 [0.084628426, 0.20873635]\n",
      "80 [0.09120138, 0.20500064]\n",
      "100 [0.094963714, 0.20286234]\n",
      "120 [0.097117245, 0.2016384]\n",
      "140 [0.098349929, 0.20093781]\n",
      "160 [0.099055506, 0.2005368]\n",
      "180 [0.099459372, 0.20030726]\n",
      "200 [0.099690542, 0.20017588]\n"
     ]
    }
   ],
   "source": [
    "#使用numpy生成100个随机点\n",
    "x_data=np.random.rand(100)\n",
    "y_data=x_data*0.1+0.2   #样本真实值\n",
    "\n",
    "#构造一个线性模型\n",
    "b=tf.Variable(1.1)\n",
    "k=tf.Variable(0.5)\n",
    "y=k*x_data+b           #预测值\n",
    "\n",
    "\n",
    "\n",
    "#二次代价函数\n",
    "loss=tf.reduce_mean(tf.square(y_data-y))  #求误差平方的平均值\n",
    "#定义一个梯度下降法来进行训练的优化器,学习率为0.2\n",
    "optimizer=tf.train.GradientDescentOptimizer(0.2)\n",
    "#定义最小化代价函数，训练的目的是训练这个最小化函数\n",
    "train=optimizer.minimize(loss)\n",
    " \n",
    "#初始化变量\n",
    "init=tf.global_variables_initializer() \n",
    "\n",
    "with tf.Session() as sess:\n",
    "    sess.run(init)\n",
    "    for step  in range(201):\n",
    "        sess.run(train)\n",
    "        if step%20==0:\n",
    "            print(step,sess.run([k,b]))"
   ]
  },
  {
   "cell_type": "code",
   "execution_count": null,
   "metadata": {
    "collapsed": true
   },
   "outputs": [],
   "source": []
  }
 ],
 "metadata": {
  "kernelspec": {
   "display_name": "Python 3",
   "language": "python",
   "name": "python3"
  },
  "language_info": {
   "codemirror_mode": {
    "name": "ipython",
    "version": 3
   },
   "file_extension": ".py",
   "mimetype": "text/x-python",
   "name": "python",
   "nbconvert_exporter": "python",
   "pygments_lexer": "ipython3",
   "version": "3.6.1"
  }
 },
 "nbformat": 4,
 "nbformat_minor": 2
}
