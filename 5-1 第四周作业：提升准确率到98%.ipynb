{
 "cells": [
  {
   "cell_type": "code",
   "execution_count": null,
   "metadata": {},
   "outputs": [],
   "source": [
    "import tensorflow as tf\n",
    "from tensorflow.examples.tutorials.mnist import input_data\n",
    "#载入数据集\n",
    "mnist=input_data.read_data_sets(\"MNIST_data\",one_hot=True)    #我们要将mnist的0-9的标签转化为“one-hot vectors”。具体见课件\n",
    "\n",
    "#每个批次的大小100\n",
    "batch_size=100                      #以矩阵形式放入100张照片进行训练\n",
    "n_batch=mnist.train.num_examples//batch_size     #数据集训练数量整除批次大小，就是一共需要训练多少个批次\n",
    "\n",
    "#定义两个placeholder\n",
    "x=tf.placeholder(tf.float32,[None,784])                  #28*28=784\n",
    "y=tf.placeholder(tf.float32,[None,10])\n",
    "keep_prob=tf.placeholder(tf.float32)\n",
    "lr=tf.Variable(1e-3,dtype=tf.float32)                    #定义了一个学习率\n",
    "\n",
    "#创建一个简单的神经网络\n",
    "W1=tf.Variable(tf.truncated_normal([784,500],stddev=0.1))     #用truncated_normal函数初始化权值\n",
    "#truncated_normal:从截断的正态分布中输出随机值。生成的值服从具有指定平均值和标准偏差的正态分布，如果生成的值大于平均值2个标准偏差的值则丢弃重新选择。\n",
    "b1=tf.Variable(tf.zeros([500])+0.1)\n",
    "L1=tf.nn.tanh(tf.matmul(x,W1)+b1)\n",
    "L1_drop=tf.nn.dropout(L1,keep_prob)         #dropout:设置百分之多少的神经元是工作的，keep_prob值为1是百分之百，值为0.5是百分之50。\n",
    "\n",
    "W2=tf.Variable(tf.truncated_normal([500,300],stddev=0.1))\n",
    "b2=tf.Variable(tf.zeros([300])+0.1)\n",
    "L2=tf.nn.tanh(tf.matmul(L1_drop,W2)+b2)\n",
    "L2_drop=tf.nn.dropout(L2,keep_prob) \n",
    "\n",
    "W3=tf.Variable(tf.truncated_normal([300,10],stddev=0.1))\n",
    "b3=tf.Variable(tf.zeros([10])+0.1)\n",
    "prediction=tf.nn.softmax(tf.matmul(L2_drop,W3)+b3)\n",
    "\n",
    "#跟softmax搭配使用的交叉熵代价函数\n",
    "loss=tf.reduce_mean(tf.nn.softmax_cross_entropy_with_logits(labels=y,logits=prediction))\n",
    "#使用Adam优化器\n",
    "train_step=tf.train.AdamOptimizer(lr).minimize(loss)              #学习率lr\n",
    "\n",
    "#初始化变量\n",
    "init=tf.global_variables_initializer()\n",
    "\n",
    "#结果存放在一个布尔型列表中\n",
    "#argmax返回一维张量中最大的值所在的位置\n",
    "#tf.argmax(prediction,1) 求prediction最大的位置，并返回这个位置的标签，这里1是数字1。本例中判定概率最大的图片属于哪个标签，并返回标签\n",
    "#argmax(y,l) 本例中y的值为0或1，哪个位置是1就会返回这个位置。(0 0 1 0) 1在第二个标签位置上，就会返回2.\n",
    "#本例比较判断出来(predictino)的标签，与真实的标签是否一样，一样的话，就返回True,并存放在correct_prediction里，否则返回False\n",
    "correct_prediction=tf.equal(tf.argmax(y,1),tf.argmax(prediction,1)) #tf.equal()比较两个变量是否相同，相同的返回True，不同返回False\n",
    "\n",
    "#求准确率\n",
    "accuracy=tf.reduce_mean(tf.cast(correct_prediction,tf.float32))    #cast()函数是转换类型，这里将布尔型转换为浮点型。true--1.0; false--0.0\n",
    "\n",
    "with tf.Session() as sess:\n",
    "    sess.run(init)\n",
    "    for epoch in range(51):                                     #将下面的循环训练51次，就是将所有的图片训练51次\n",
    "        sess.run(tf.assign(lr,0.001*(0.95**epoch)))   #tf.assign()这里的函数主要功能是每次迭代更新学习率lr的值。将0.001*(0.95**epoch)赋给lr\n",
    "        #随着迭代次数增多，学习率逐渐减小。好处是刚开始训练时模型混乱，需较大学习率，找到一个全局最小值，\n",
    "        #当靠近最小值的时候，需降低学习率以达到全局最小值的最小值\n",
    "        for batch in range(n_batch):                            #该循环将所有批次的图片拿来训练一次，按批次循环，每批次100张图片\n",
    "            batch_xs,batch_ys=mnist.train.next_batch(batch_size)#获得一个批次数量的图片（100个），图片数据保存在batch_xs，图片标签存在batch_ys\n",
    "            sess.run(train_step,feed_dict={x:batch_xs,y:batch_ys,keep_prob:1.0})\n",
    "        \n",
    "        learning_rate=sess.run(lr)\n",
    "        test_acc=sess.run(accuracy,feed_dict={x:mnist.test.images,y:mnist.test.labels,keep_prob:1.0})            #喂进去测试集的图片和标签\n",
    "        print('Iter'+str(epoch)+',Testing Accuracy='+str(test_acc)+',Learing Rate='+str(learning_rate))"
   ]
  },
  {
   "cell_type": "code",
   "execution_count": null,
   "metadata": {
    "collapsed": true
   },
   "outputs": [],
   "source": []
  }
 ],
 "metadata": {
  "kernelspec": {
   "display_name": "Python 3",
   "language": "python",
   "name": "python3"
  },
  "language_info": {
   "codemirror_mode": {
    "name": "ipython",
    "version": 3
   },
   "file_extension": ".py",
   "mimetype": "text/x-python",
   "name": "python",
   "nbconvert_exporter": "python",
   "pygments_lexer": "ipython3",
   "version": "3.6.1"
  }
 },
 "nbformat": 4,
 "nbformat_minor": 2
}
