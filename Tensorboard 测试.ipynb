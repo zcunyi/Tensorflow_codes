{
 "cells": [
  {
   "cell_type": "code",
   "execution_count": 7,
   "metadata": {
    "collapsed": true
   },
   "outputs": [],
   "source": [
    "import tensorflow as tf\n",
    "with tf.name_scope('input1'):\n",
    "    input1=tf.constant([1.0,2.0,3.0],name=\"input1\")\n",
    "with tf.name_scope('input2'):\n",
    "    input2=tf.Variable(tf.random_uniform([3]),name=\"input2\")\n",
    "output=tf.add_n([input1,input2],name=\"add\")\n",
    "writer=tf.summary.FileWriter(r\"D:\\Program Files (x86)\\Anaconda\\Install\\Scripts\",tf.get_default_graph())\n",
    "writer.close()"
   ]
  },
  {
   "cell_type": "code",
   "execution_count": null,
   "metadata": {
    "collapsed": true
   },
   "outputs": [],
   "source": []
  }
 ],
 "metadata": {
  "kernelspec": {
   "display_name": "Python 3",
   "language": "python",
   "name": "python3"
  }
 },
 "nbformat": 4,
 "nbformat_minor": 2
}
